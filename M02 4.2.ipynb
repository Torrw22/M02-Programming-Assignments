{
 "cells": [
  {
   "cell_type": "code",
   "execution_count": 5,
   "id": "ae26512b",
   "metadata": {},
   "outputs": [
    {
     "name": "stdout",
     "output_type": "stream",
     "text": [
      "pea\n"
     ]
    }
   ],
   "source": [
    "# Assigning values to small and green\n",
    "small = True\n",
    "green = True\n",
    "\n",
    "# Check which fruit/vegetable matches the characteristics\n",
    "if small and green:\n",
    "    print(\"pea\")\n",
    "elif not small and green:\n",
    "    print(\"watermelon\")\n",
    "elif small and not green:\n",
    "    print(\"cherry\")\n",
    "elif not small and not green:\n",
    "    print(\"pumpkin\")"
   ]
  },
  {
   "cell_type": "code",
   "execution_count": null,
   "id": "e4327609",
   "metadata": {},
   "outputs": [],
   "source": []
  }
 ],
 "metadata": {
  "kernelspec": {
   "display_name": "Python 3",
   "language": "python",
   "name": "python3"
  },
  "language_info": {
   "codemirror_mode": {
    "name": "ipython",
    "version": 3
   },
   "file_extension": ".py",
   "mimetype": "text/x-python",
   "name": "python",
   "nbconvert_exporter": "python",
   "pygments_lexer": "ipython3",
   "version": "3.8.8"
  }
 },
 "nbformat": 4,
 "nbformat_minor": 5
}
