{
 "cells": [
  {
   "cell_type": "code",
   "execution_count": 2,
   "id": "a01d99d0",
   "metadata": {},
   "outputs": [
    {
     "name": "stdout",
     "output_type": "stream",
     "text": [
      "Secret: 4\n",
      "Guess: 8\n",
      "too high\n"
     ]
    }
   ],
   "source": [
    "import random\n",
    "\n",
    "# Choose a number between 1 and 10 for 'secret' and 'guess'\n",
    "secret = random.randint(1, 10)\n",
    "guess = random.randint(1, 10)\n",
    "\n",
    "print(f\"Secret: {secret}\")\n",
    "print(f\"Guess: {guess}\")\n",
    "\n",
    "# Conditional tests to compare 'guess' with 'secret'\n",
    "if guess < secret:\n",
    "    print(\"too low\")\n",
    "elif guess > secret:\n",
    "    print(\"too high\")\n",
    "else:\n",
    "    print(\"just right\")"
   ]
  },
  {
   "cell_type": "code",
   "execution_count": null,
   "id": "675f01b6",
   "metadata": {},
   "outputs": [],
   "source": []
  },
  {
   "cell_type": "code",
   "execution_count": null,
   "id": "6816d8bc",
   "metadata": {},
   "outputs": [],
   "source": []
  }
 ],
 "metadata": {
  "kernelspec": {
   "display_name": "Python 3",
   "language": "python",
   "name": "python3"
  },
  "language_info": {
   "codemirror_mode": {
    "name": "ipython",
    "version": 3
   },
   "file_extension": ".py",
   "mimetype": "text/x-python",
   "name": "python",
   "nbconvert_exporter": "python",
   "pygments_lexer": "ipython3",
   "version": "3.8.8"
  }
 },
 "nbformat": 4,
 "nbformat_minor": 5
}
